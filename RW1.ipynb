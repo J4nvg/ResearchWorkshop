{
 "cells": [
  {
   "metadata": {
    "ExecuteTime": {
     "end_time": "2025-02-08T15:42:28.579068Z",
     "start_time": "2025-02-08T15:42:28.084487Z"
    }
   },
   "cell_type": "code",
   "source": [
    "import pandas as pd\n",
    "import matplotlib.pyplot as plt"
   ],
   "id": "e2bcf81eb9dcd90a",
   "outputs": [],
   "execution_count": 7
  },
  {
   "metadata": {
    "ExecuteTime": {
     "end_time": "2025-02-08T16:13:17.224794Z",
     "start_time": "2025-02-08T16:13:17.177899Z"
    }
   },
   "cell_type": "code",
   "source": [
    "# Importing ISBG as dataframe\n",
    "ISBG = pd.read_excel(\"./data/ISBSG-revised.xlsx\")"
   ],
   "id": "6e08191c54627058",
   "outputs": [],
   "execution_count": 20
  },
  {
   "metadata": {},
   "cell_type": "markdown",
   "source": "",
   "id": "acb85e04c2349f97"
  },
  {
   "metadata": {
    "ExecuteTime": {
     "end_time": "2025-02-08T16:13:22.557033Z",
     "start_time": "2025-02-08T16:13:22.506554Z"
    }
   },
   "cell_type": "code",
   "source": [
    "# Standard data exploration\n",
    "ISBG.head()\n",
    "ISBG.info()\n",
    "ISBG.describe()"
   ],
   "id": "1149a94b92cdbaba",
   "outputs": [
    {
     "name": "stdout",
     "output_type": "stream",
     "text": [
      "<class 'pandas.core.frame.DataFrame'>\n",
      "RangeIndex: 250 entries, 0 to 249\n",
      "Data columns (total 7 columns):\n",
      " #   Column           Non-Null Count  Dtype \n",
      "---  ------           --------------  ----- \n",
      " 0   Project ID       250 non-null    int64 \n",
      " 1   COSMIC Entry     250 non-null    int64 \n",
      " 2   COSMIC Exit      250 non-null    int64 \n",
      " 3   COSMIC Read      250 non-null    int64 \n",
      " 4   COSMIC Write     250 non-null    int64 \n",
      " 5   Functional Size  250 non-null    int64 \n",
      " 6   Relative Size    250 non-null    object\n",
      "dtypes: int64(6), object(1)\n",
      "memory usage: 13.8+ KB\n"
     ]
    },
    {
     "data": {
      "text/plain": [
       "         Project ID  COSMIC Entry  COSMIC Exit  COSMIC Read  COSMIC Write  \\\n",
       "count    250.000000     250.00000    250.00000    250.00000    250.000000   \n",
       "mean   21465.188000      47.44800     52.56000     44.25200     24.668000   \n",
       "std     6422.124915      93.32415    109.59864     75.39303     54.846315   \n",
       "min    10036.000000       0.00000      0.00000      0.00000      0.000000   \n",
       "25%    16311.500000       4.00000      2.00000      3.00000      1.000000   \n",
       "50%    20384.500000      18.50000     14.00000     12.50000      7.000000   \n",
       "75%    27462.000000      50.00000     52.50000     54.75000     25.750000   \n",
       "max    32766.000000     908.00000    933.00000    545.00000    542.000000   \n",
       "\n",
       "       Functional Size  \n",
       "count       250.000000  \n",
       "mean        168.720000  \n",
       "std         289.133843  \n",
       "min           1.000000  \n",
       "25%          13.250000  \n",
       "50%          72.000000  \n",
       "75%         186.750000  \n",
       "max        2090.000000  "
      ],
      "text/html": [
       "<div>\n",
       "<style scoped>\n",
       "    .dataframe tbody tr th:only-of-type {\n",
       "        vertical-align: middle;\n",
       "    }\n",
       "\n",
       "    .dataframe tbody tr th {\n",
       "        vertical-align: top;\n",
       "    }\n",
       "\n",
       "    .dataframe thead th {\n",
       "        text-align: right;\n",
       "    }\n",
       "</style>\n",
       "<table border=\"1\" class=\"dataframe\">\n",
       "  <thead>\n",
       "    <tr style=\"text-align: right;\">\n",
       "      <th></th>\n",
       "      <th>Project ID</th>\n",
       "      <th>COSMIC Entry</th>\n",
       "      <th>COSMIC Exit</th>\n",
       "      <th>COSMIC Read</th>\n",
       "      <th>COSMIC Write</th>\n",
       "      <th>Functional Size</th>\n",
       "    </tr>\n",
       "  </thead>\n",
       "  <tbody>\n",
       "    <tr>\n",
       "      <th>count</th>\n",
       "      <td>250.000000</td>\n",
       "      <td>250.00000</td>\n",
       "      <td>250.00000</td>\n",
       "      <td>250.00000</td>\n",
       "      <td>250.000000</td>\n",
       "      <td>250.000000</td>\n",
       "    </tr>\n",
       "    <tr>\n",
       "      <th>mean</th>\n",
       "      <td>21465.188000</td>\n",
       "      <td>47.44800</td>\n",
       "      <td>52.56000</td>\n",
       "      <td>44.25200</td>\n",
       "      <td>24.668000</td>\n",
       "      <td>168.720000</td>\n",
       "    </tr>\n",
       "    <tr>\n",
       "      <th>std</th>\n",
       "      <td>6422.124915</td>\n",
       "      <td>93.32415</td>\n",
       "      <td>109.59864</td>\n",
       "      <td>75.39303</td>\n",
       "      <td>54.846315</td>\n",
       "      <td>289.133843</td>\n",
       "    </tr>\n",
       "    <tr>\n",
       "      <th>min</th>\n",
       "      <td>10036.000000</td>\n",
       "      <td>0.00000</td>\n",
       "      <td>0.00000</td>\n",
       "      <td>0.00000</td>\n",
       "      <td>0.000000</td>\n",
       "      <td>1.000000</td>\n",
       "    </tr>\n",
       "    <tr>\n",
       "      <th>25%</th>\n",
       "      <td>16311.500000</td>\n",
       "      <td>4.00000</td>\n",
       "      <td>2.00000</td>\n",
       "      <td>3.00000</td>\n",
       "      <td>1.000000</td>\n",
       "      <td>13.250000</td>\n",
       "    </tr>\n",
       "    <tr>\n",
       "      <th>50%</th>\n",
       "      <td>20384.500000</td>\n",
       "      <td>18.50000</td>\n",
       "      <td>14.00000</td>\n",
       "      <td>12.50000</td>\n",
       "      <td>7.000000</td>\n",
       "      <td>72.000000</td>\n",
       "    </tr>\n",
       "    <tr>\n",
       "      <th>75%</th>\n",
       "      <td>27462.000000</td>\n",
       "      <td>50.00000</td>\n",
       "      <td>52.50000</td>\n",
       "      <td>54.75000</td>\n",
       "      <td>25.750000</td>\n",
       "      <td>186.750000</td>\n",
       "    </tr>\n",
       "    <tr>\n",
       "      <th>max</th>\n",
       "      <td>32766.000000</td>\n",
       "      <td>908.00000</td>\n",
       "      <td>933.00000</td>\n",
       "      <td>545.00000</td>\n",
       "      <td>542.000000</td>\n",
       "      <td>2090.000000</td>\n",
       "    </tr>\n",
       "  </tbody>\n",
       "</table>\n",
       "</div>"
      ]
     },
     "execution_count": 22,
     "metadata": {},
     "output_type": "execute_result"
    }
   ],
   "execution_count": 22
  },
  {
   "metadata": {},
   "cell_type": "code",
   "outputs": [],
   "execution_count": null,
   "source": "\n",
   "id": "f292ce7e250ff68d"
  },
  {
   "metadata": {},
   "cell_type": "markdown",
   "source": "",
   "id": "2ea444983162498b"
  }
 ],
 "metadata": {
  "kernelspec": {
   "display_name": "Python 3",
   "language": "python",
   "name": "python3"
  },
  "language_info": {
   "codemirror_mode": {
    "name": "ipython",
    "version": 2
   },
   "file_extension": ".py",
   "mimetype": "text/x-python",
   "name": "python",
   "nbconvert_exporter": "python",
   "pygments_lexer": "ipython2",
   "version": "2.7.6"
  }
 },
 "nbformat": 4,
 "nbformat_minor": 5
}
