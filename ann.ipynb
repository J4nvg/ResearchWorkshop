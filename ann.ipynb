{
 "cells": [
  {
   "cell_type": "code",
   "id": "initial_id",
   "metadata": {
    "collapsed": true,
    "ExecuteTime": {
     "end_time": "2025-04-24T11:04:19.815935Z",
     "start_time": "2025-04-24T11:04:19.801918Z"
    }
   },
   "source": [
    "import pandas as pd\n",
    "import numpy as np\n",
    "import matplotlib.pyplot as plt\n",
    "import seaborn as sns\n",
    "import tensorflow as tf\n",
    "import sklearn as sk\n"
   ],
   "outputs": [],
   "execution_count": 21
  },
  {
   "metadata": {
    "ExecuteTime": {
     "end_time": "2025-04-24T11:04:27.345553Z",
     "start_time": "2025-04-24T11:04:20.220537Z"
    }
   },
   "cell_type": "code",
   "source": "ISBG = pd.read_excel(\"./data/ISBSG-whole.xlsx\",header=3)",
   "id": "fd991e6a879960a5",
   "outputs": [],
   "execution_count": 22
  },
  {
   "metadata": {
    "ExecuteTime": {
     "end_time": "2025-04-24T11:04:27.361688Z",
     "start_time": "2025-04-24T11:04:27.345553Z"
    }
   },
   "cell_type": "code",
   "source": [
    "cols_needed = ['Max Team Size','COSMIC Read','COSMIC Write','COSMIC Entry','COSMIC Exit','Functional Size','Project Elapsed Time','Development Platform','Primary Programming Language','Summary Work Effort']\n",
    "ISBG_interest = ISBG[cols_needed]\n",
    "df_clean = ISBG_interest.dropna(subset=[\"COSMIC Read\", \"COSMIC Write\", \"COSMIC Exit\", \"COSMIC Entry\"])"
   ],
   "id": "2a1e4e6ca528812e",
   "outputs": [],
   "execution_count": 23
  },
  {
   "metadata": {
    "ExecuteTime": {
     "end_time": "2025-04-24T11:07:34.658603Z",
     "start_time": "2025-04-24T11:07:34.632706Z"
    }
   },
   "cell_type": "code",
   "source": [
    "from sklearn.model_selection import train_test_split\n",
    "\n",
    "X_clean = df_clean.drop(columns=[\"Summary Work Effort\"])\n",
    "y_clean = df_clean[\"Summary Work Effort\"]\n",
    "X_train, X_test, y_train, y_test = train_test_split(\n",
    "    X_clean, y_clean, test_size=0.2, random_state=42\n",
    ")\n",
    "\n",
    "num_cols = X_train.select_dtypes(include='number').columns\n",
    "cat_cols = X_train.select_dtypes(exclude='number').columns\n",
    "\n",
    "X_num_train = X_train[num_cols]\n",
    "X_num_test = X_test[num_cols]\n",
    "\n",
    "X_cat_train = X_train[cat_cols]\n",
    "X_cat_test = X_test[cat_cols]"
   ],
   "id": "729ca24b3acc8341",
   "outputs": [],
   "execution_count": 27
  },
  {
   "metadata": {
    "ExecuteTime": {
     "end_time": "2025-04-24T11:07:35.523848Z",
     "start_time": "2025-04-24T11:07:35.464956Z"
    }
   },
   "cell_type": "code",
   "source": [
    "from sklearn.impute import KNNImputer\n",
    "from sklearn.pipeline import Pipeline\n",
    "from sklearn.compose import ColumnTransformer\n",
    "from sklearn.preprocessing import FunctionTransformer, StandardScaler, OneHotEncoder\n",
    "\n",
    "numeric_pipeline = Pipeline([\n",
    "    (\"imputer\", KNNImputer(n_neighbors=5)),            # fit on train only\n",
    "    (\"log1p\", FunctionTransformer(np.log1p, validate=True)),\n",
    "    (\"scaler\", StandardScaler()),\n",
    "])\n",
    "\n",
    "categorical_pipeline = Pipeline([\n",
    "    (\"onehot\", OneHotEncoder(handle_unknown=\"ignore\")),\n",
    "])\n",
    "\n",
    "preprocessor = ColumnTransformer([\n",
    "    (\"num\", numeric_pipeline,   num_cols),\n",
    "    (\"cat\", categorical_pipeline, cat_cols),\n",
    "])\n",
    "\n",
    "X_train_prepared = preprocessor.fit_transform(\n",
    "    pd.concat([X_num_train, X_cat_train], axis=1)\n",
    ")\n",
    "X_test_prepared  = preprocessor.transform(\n",
    "    pd.concat([X_num_test,  X_cat_test],  axis=1)\n",
    ")\n"
   ],
   "id": "f5253b8f9e6dffa3",
   "outputs": [],
   "execution_count": 28
  },
  {
   "metadata": {
    "ExecuteTime": {
     "end_time": "2025-04-24T11:07:36.432865Z",
     "start_time": "2025-04-24T11:07:36.422299Z"
    }
   },
   "cell_type": "code",
   "source": [
    "\n",
    "tech_features = [\"Development Platform\", \"Primary Programming Language\",\n",
    "                 \"Project Elapsed Time\", \"Max Team Size\"]\n",
    "\n",
    "functional_features = [\"COSMIC Read\", \"COSMIC Write\", \"COSMIC Entry\", \"COSMIC Exit\"]\n",
    "\n",
    "# Split training and test sets\n",
    "X_tech_train = X_train_prepared[tech_features]\n",
    "X_tech_test = X_test_prepared[tech_features]\n",
    "\n",
    "X_func_train = X_train_prepared[functional_features]\n",
    "X_func_test = X_test_prepared[functional_features]\n"
   ],
   "id": "b2cc84a446344611",
   "outputs": [],
   "execution_count": 28
  },
  {
   "metadata": {},
   "cell_type": "code",
   "outputs": [],
   "execution_count": null,
   "source": "",
   "id": "65535306c34757e8"
  }
 ],
 "metadata": {
  "kernelspec": {
   "display_name": "Python 3",
   "language": "python",
   "name": "python3"
  },
  "language_info": {
   "codemirror_mode": {
    "name": "ipython",
    "version": 2
   },
   "file_extension": ".py",
   "mimetype": "text/x-python",
   "name": "python",
   "nbconvert_exporter": "python",
   "pygments_lexer": "ipython2",
   "version": "2.7.6"
  }
 },
 "nbformat": 4,
 "nbformat_minor": 5
}
