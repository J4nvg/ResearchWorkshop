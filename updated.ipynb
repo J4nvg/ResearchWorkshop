{
 "cells": [
  {
   "cell_type": "markdown",
   "id": "e916f270",
   "metadata": {},
   "source": [
    "## Libraries"
   ]
  },
  {
   "cell_type": "code",
   "execution_count": 96,
   "id": "e72e1303",
   "metadata": {},
   "outputs": [],
   "source": [
    "import numpy as np\n",
    "import pandas as pd\n",
    "import seaborn as sns\n",
    "import matplotlib.pyplot as plt\n",
    "from scipy.ndimage import histogram\n",
    "import os\n",
    "os.makedirs('./plot', exist_ok=True)"
   ]
  },
  {
   "cell_type": "markdown",
   "id": "d335d1ca",
   "metadata": {},
   "source": [
    "## Import dataset"
   ]
  },
  {
   "cell_type": "code",
   "execution_count": 97,
   "id": "ea62fefa",
   "metadata": {},
   "outputs": [],
   "source": [
    "# Importing ISBG as dataframe\n",
    "ISBG = pd.read_excel(\"./data/ISBSG-whole.xlsx\",header=3)\n",
    "# ISBG.set_index(\"Project ID\", inplace=True)"
   ]
  },
  {
   "cell_type": "markdown",
   "id": "3a726093",
   "metadata": {},
   "source": [
    "## Head (before any transformation)"
   ]
  },
  {
   "cell_type": "code",
   "execution_count": 98,
   "id": "4fe3594c",
   "metadata": {},
   "outputs": [
    {
     "data": {
      "text/html": [
       "<div>\n",
       "<style scoped>\n",
       "    .dataframe tbody tr th:only-of-type {\n",
       "        vertical-align: middle;\n",
       "    }\n",
       "\n",
       "    .dataframe tbody tr th {\n",
       "        vertical-align: top;\n",
       "    }\n",
       "\n",
       "    .dataframe thead th {\n",
       "        text-align: right;\n",
       "    }\n",
       "</style>\n",
       "<table border=\"1\" class=\"dataframe\">\n",
       "  <thead>\n",
       "    <tr style=\"text-align: right;\">\n",
       "      <th></th>\n",
       "      <th>ISBSG Project ID</th>\n",
       "      <th>Data Quality Rating</th>\n",
       "      <th>UFP rating</th>\n",
       "      <th>Year of Project</th>\n",
       "      <th>Industry Sector</th>\n",
       "      <th>Organisation Type</th>\n",
       "      <th>Application Group</th>\n",
       "      <th>Application Type</th>\n",
       "      <th>Development Type</th>\n",
       "      <th>Development Platform</th>\n",
       "      <th>...</th>\n",
       "      <th>Added count</th>\n",
       "      <th>Changed count</th>\n",
       "      <th>Deleted count</th>\n",
       "      <th>COSMIC Entry</th>\n",
       "      <th>COSMIC Exit</th>\n",
       "      <th>COSMIC Read</th>\n",
       "      <th>COSMIC Write</th>\n",
       "      <th>Lines of Code</th>\n",
       "      <th>Lines of Code not Statements</th>\n",
       "      <th>Other Size Units</th>\n",
       "    </tr>\n",
       "  </thead>\n",
       "  <tbody>\n",
       "    <tr>\n",
       "      <th>0</th>\n",
       "      <td>10001</td>\n",
       "      <td>D</td>\n",
       "      <td>A</td>\n",
       "      <td>1998</td>\n",
       "      <td>Service Industry</td>\n",
       "      <td>Recreation &amp; Personnel Services;</td>\n",
       "      <td>Business Application</td>\n",
       "      <td>Transaction/Production System;</td>\n",
       "      <td>New Development</td>\n",
       "      <td>MR</td>\n",
       "      <td>...</td>\n",
       "      <td>237.0</td>\n",
       "      <td>NaN</td>\n",
       "      <td>NaN</td>\n",
       "      <td>NaN</td>\n",
       "      <td>NaN</td>\n",
       "      <td>NaN</td>\n",
       "      <td>NaN</td>\n",
       "      <td>NaN</td>\n",
       "      <td>NaN</td>\n",
       "      <td>NaN</td>\n",
       "    </tr>\n",
       "    <tr>\n",
       "      <th>1</th>\n",
       "      <td>10011</td>\n",
       "      <td>B</td>\n",
       "      <td>A</td>\n",
       "      <td>1996</td>\n",
       "      <td>Construction</td>\n",
       "      <td>Construction;</td>\n",
       "      <td>Business Application</td>\n",
       "      <td>Stock control &amp; order processing;</td>\n",
       "      <td>New Development</td>\n",
       "      <td>Multi</td>\n",
       "      <td>...</td>\n",
       "      <td>NaN</td>\n",
       "      <td>NaN</td>\n",
       "      <td>NaN</td>\n",
       "      <td>NaN</td>\n",
       "      <td>NaN</td>\n",
       "      <td>NaN</td>\n",
       "      <td>NaN</td>\n",
       "      <td>NaN</td>\n",
       "      <td>NaN</td>\n",
       "      <td>NaN</td>\n",
       "    </tr>\n",
       "    <tr>\n",
       "      <th>2</th>\n",
       "      <td>10012</td>\n",
       "      <td>B</td>\n",
       "      <td>A</td>\n",
       "      <td>2002</td>\n",
       "      <td>Wholesale &amp; Retail</td>\n",
       "      <td>Billing;</td>\n",
       "      <td>Business Application</td>\n",
       "      <td>Billing;</td>\n",
       "      <td>Enhancement</td>\n",
       "      <td>NaN</td>\n",
       "      <td>...</td>\n",
       "      <td>NaN</td>\n",
       "      <td>NaN</td>\n",
       "      <td>NaN</td>\n",
       "      <td>NaN</td>\n",
       "      <td>NaN</td>\n",
       "      <td>NaN</td>\n",
       "      <td>NaN</td>\n",
       "      <td>NaN</td>\n",
       "      <td>NaN</td>\n",
       "      <td>NaN</td>\n",
       "    </tr>\n",
       "    <tr>\n",
       "      <th>3</th>\n",
       "      <td>10014</td>\n",
       "      <td>B</td>\n",
       "      <td>A</td>\n",
       "      <td>2004</td>\n",
       "      <td>NaN</td>\n",
       "      <td>NaN</td>\n",
       "      <td>NaN</td>\n",
       "      <td>NaN</td>\n",
       "      <td>Enhancement</td>\n",
       "      <td>NaN</td>\n",
       "      <td>...</td>\n",
       "      <td>NaN</td>\n",
       "      <td>NaN</td>\n",
       "      <td>NaN</td>\n",
       "      <td>NaN</td>\n",
       "      <td>NaN</td>\n",
       "      <td>NaN</td>\n",
       "      <td>NaN</td>\n",
       "      <td>NaN</td>\n",
       "      <td>NaN</td>\n",
       "      <td>NaN</td>\n",
       "    </tr>\n",
       "    <tr>\n",
       "      <th>4</th>\n",
       "      <td>10015</td>\n",
       "      <td>B</td>\n",
       "      <td>A</td>\n",
       "      <td>2000</td>\n",
       "      <td>Wholesale &amp; Retail</td>\n",
       "      <td>Wholesale &amp; Retail Trade;</td>\n",
       "      <td>Business Application</td>\n",
       "      <td>Management Information System;</td>\n",
       "      <td>Enhancement</td>\n",
       "      <td>MF</td>\n",
       "      <td>...</td>\n",
       "      <td>35.0</td>\n",
       "      <td>347.0</td>\n",
       "      <td>0.0</td>\n",
       "      <td>NaN</td>\n",
       "      <td>NaN</td>\n",
       "      <td>NaN</td>\n",
       "      <td>NaN</td>\n",
       "      <td>NaN</td>\n",
       "      <td>NaN</td>\n",
       "      <td>NaN</td>\n",
       "    </tr>\n",
       "  </tbody>\n",
       "</table>\n",
       "<p>5 rows × 130 columns</p>\n",
       "</div>"
      ],
      "text/plain": [
       "   ISBSG Project ID Data Quality Rating UFP rating  Year of Project  \\\n",
       "0             10001                   D          A             1998   \n",
       "1             10011                   B          A             1996   \n",
       "2             10012                   B          A             2002   \n",
       "3             10014                   B          A             2004   \n",
       "4             10015                   B          A             2000   \n",
       "\n",
       "      Industry Sector                 Organisation Type     Application Group  \\\n",
       "0    Service Industry  Recreation & Personnel Services;  Business Application   \n",
       "1        Construction                     Construction;  Business Application   \n",
       "2  Wholesale & Retail                          Billing;  Business Application   \n",
       "3                 NaN                               NaN                   NaN   \n",
       "4  Wholesale & Retail         Wholesale & Retail Trade;  Business Application   \n",
       "\n",
       "                    Application Type Development Type Development Platform  \\\n",
       "0     Transaction/Production System;  New Development                   MR   \n",
       "1  Stock control & order processing;  New Development                Multi   \n",
       "2                           Billing;      Enhancement                  NaN   \n",
       "3                                NaN      Enhancement                  NaN   \n",
       "4     Management Information System;      Enhancement                   MF   \n",
       "\n",
       "   ... Added count Changed count Deleted count  COSMIC Entry COSMIC Exit  \\\n",
       "0  ...       237.0           NaN           NaN           NaN         NaN   \n",
       "1  ...         NaN           NaN           NaN           NaN         NaN   \n",
       "2  ...         NaN           NaN           NaN           NaN         NaN   \n",
       "3  ...         NaN           NaN           NaN           NaN         NaN   \n",
       "4  ...        35.0         347.0           0.0           NaN         NaN   \n",
       "\n",
       "   COSMIC Read  COSMIC Write  Lines of Code  Lines of Code not Statements  \\\n",
       "0          NaN           NaN            NaN                           NaN   \n",
       "1          NaN           NaN            NaN                           NaN   \n",
       "2          NaN           NaN            NaN                           NaN   \n",
       "3          NaN           NaN            NaN                           NaN   \n",
       "4          NaN           NaN            NaN                           NaN   \n",
       "\n",
       "   Other Size Units  \n",
       "0               NaN  \n",
       "1               NaN  \n",
       "2               NaN  \n",
       "3               NaN  \n",
       "4               NaN  \n",
       "\n",
       "[5 rows x 130 columns]"
      ]
     },
     "execution_count": 98,
     "metadata": {},
     "output_type": "execute_result"
    }
   ],
   "source": [
    "ISBG.head()"
   ]
  },
  {
   "cell_type": "markdown",
   "id": "8c30520f",
   "metadata": {},
   "source": [
    "## Extract columns"
   ]
  },
  {
   "cell_type": "code",
   "execution_count": 99,
   "id": "050f5ba3",
   "metadata": {},
   "outputs": [
    {
     "data": {
      "text/html": [
       "<div>\n",
       "<style scoped>\n",
       "    .dataframe tbody tr th:only-of-type {\n",
       "        vertical-align: middle;\n",
       "    }\n",
       "\n",
       "    .dataframe tbody tr th {\n",
       "        vertical-align: top;\n",
       "    }\n",
       "\n",
       "    .dataframe thead th {\n",
       "        text-align: right;\n",
       "    }\n",
       "</style>\n",
       "<table border=\"1\" class=\"dataframe\">\n",
       "  <thead>\n",
       "    <tr style=\"text-align: right;\">\n",
       "      <th></th>\n",
       "      <th>Max Team Size</th>\n",
       "      <th>COSMIC Read</th>\n",
       "      <th>COSMIC Write</th>\n",
       "      <th>COSMIC Entry</th>\n",
       "      <th>COSMIC Exit</th>\n",
       "      <th>Functional Size</th>\n",
       "      <th>Project Elapsed Time</th>\n",
       "      <th>Development Platform</th>\n",
       "      <th>Primary Programming Language</th>\n",
       "      <th>Summary Work Effort</th>\n",
       "    </tr>\n",
       "  </thead>\n",
       "  <tbody>\n",
       "    <tr>\n",
       "      <th>0</th>\n",
       "      <td>5.0</td>\n",
       "      <td>NaN</td>\n",
       "      <td>NaN</td>\n",
       "      <td>NaN</td>\n",
       "      <td>NaN</td>\n",
       "      <td>237.0</td>\n",
       "      <td>6.0</td>\n",
       "      <td>MR</td>\n",
       "      <td>Oracle</td>\n",
       "      <td>1850.0</td>\n",
       "    </tr>\n",
       "    <tr>\n",
       "      <th>1</th>\n",
       "      <td>NaN</td>\n",
       "      <td>NaN</td>\n",
       "      <td>NaN</td>\n",
       "      <td>NaN</td>\n",
       "      <td>NaN</td>\n",
       "      <td>443.0</td>\n",
       "      <td>2.6</td>\n",
       "      <td>Multi</td>\n",
       "      <td>Access</td>\n",
       "      <td>796.0</td>\n",
       "    </tr>\n",
       "    <tr>\n",
       "      <th>2</th>\n",
       "      <td>NaN</td>\n",
       "      <td>NaN</td>\n",
       "      <td>NaN</td>\n",
       "      <td>NaN</td>\n",
       "      <td>NaN</td>\n",
       "      <td>76.0</td>\n",
       "      <td>NaN</td>\n",
       "      <td>NaN</td>\n",
       "      <td>COBOL</td>\n",
       "      <td>1100.0</td>\n",
       "    </tr>\n",
       "    <tr>\n",
       "      <th>3</th>\n",
       "      <td>NaN</td>\n",
       "      <td>NaN</td>\n",
       "      <td>NaN</td>\n",
       "      <td>NaN</td>\n",
       "      <td>NaN</td>\n",
       "      <td>3.0</td>\n",
       "      <td>NaN</td>\n",
       "      <td>NaN</td>\n",
       "      <td>NaN</td>\n",
       "      <td>28.0</td>\n",
       "    </tr>\n",
       "    <tr>\n",
       "      <th>4</th>\n",
       "      <td>NaN</td>\n",
       "      <td>NaN</td>\n",
       "      <td>NaN</td>\n",
       "      <td>NaN</td>\n",
       "      <td>NaN</td>\n",
       "      <td>382.0</td>\n",
       "      <td>3.0</td>\n",
       "      <td>MF</td>\n",
       "      <td>COBOL</td>\n",
       "      <td>22000.0</td>\n",
       "    </tr>\n",
       "  </tbody>\n",
       "</table>\n",
       "</div>"
      ],
      "text/plain": [
       "   Max Team Size  COSMIC Read  COSMIC Write  COSMIC Entry  COSMIC Exit  \\\n",
       "0            5.0          NaN           NaN           NaN          NaN   \n",
       "1            NaN          NaN           NaN           NaN          NaN   \n",
       "2            NaN          NaN           NaN           NaN          NaN   \n",
       "3            NaN          NaN           NaN           NaN          NaN   \n",
       "4            NaN          NaN           NaN           NaN          NaN   \n",
       "\n",
       "   Functional Size  Project Elapsed Time Development Platform  \\\n",
       "0            237.0                   6.0                   MR   \n",
       "1            443.0                   2.6                Multi   \n",
       "2             76.0                   NaN                  NaN   \n",
       "3              3.0                   NaN                  NaN   \n",
       "4            382.0                   3.0                   MF   \n",
       "\n",
       "  Primary Programming Language  Summary Work Effort  \n",
       "0                       Oracle               1850.0  \n",
       "1                       Access                796.0  \n",
       "2                        COBOL               1100.0  \n",
       "3                          NaN                 28.0  \n",
       "4                        COBOL              22000.0  "
      ]
     },
     "execution_count": 99,
     "metadata": {},
     "output_type": "execute_result"
    }
   ],
   "source": [
    "cols_needed = ['Max Team Size','COSMIC Read','COSMIC Write','COSMIC Entry','COSMIC Exit','Functional Size','Project Elapsed Time','Development Platform','Primary Programming Language','Summary Work Effort']\n",
    "ISBG_interest = ISBG[cols_needed]\n",
    "ISBG_interest.head()"
   ]
  },
  {
   "cell_type": "markdown",
   "id": "14d15c64",
   "metadata": {},
   "source": [
    "## Remove missing COSMIC rows"
   ]
  },
  {
   "cell_type": "code",
   "execution_count": 100,
   "id": "7434289a",
   "metadata": {},
   "outputs": [
    {
     "name": "stdout",
     "output_type": "stream",
     "text": [
      "254\n"
     ]
    },
    {
     "data": {
      "image/png": "[encoded data removed]",
      "text/plain": [
       "<Figure size 1000x500 with 1 Axes>"
      ]
     },
     "metadata": {},
     "output_type": "display_data"
    }
   ],
   "source": [
    "df_clean = ISBG_interest.dropna(subset=[\"COSMIC Read\", \"COSMIC Write\", \"COSMIC Exit\", \"COSMIC Entry\"])\n",
    "print(len(df_clean))\n",
    "plt.figure(figsize=(10,5))\n",
    "sns.histplot(df_clean['Summary Work Effort'], kde=False, bins=50)  # Set bins and kde to False\n",
    "\n",
    "plt.title('Distribution of Summary Work Effort (SWE)')\n",
    "plt.xlabel('Summary Work Effort')\n",
    "plt.ylabel('Frequency')\n",
    "plt.savefig('./plot/dfCleanhistogram.svg')\n",
    "plt.show()\n",
    "\n",
    "df_clean = df_clean.dropna(subset=['Summary Work Effort'])\n"
   ]
  },
  {
   "cell_type": "markdown",
   "id": "0c5c793a",
   "metadata": {},
   "source": [
    "## One-hot encoding + Train-test split (80-20)"
   ]
  },
  {
   "cell_type": "code",
   "execution_count": 101,
   "id": "81d35900",
   "metadata": {},
   "outputs": [],
   "source": [
    "from sklearn.model_selection import train_test_split\n",
    "\n",
    "df_clean = pd.get_dummies(df_clean)\n",
    "X_clean = df_clean.drop(columns=[\"Summary Work Effort\"])\n",
    "y_clean = df_clean[\"Summary Work Effort\"]\n",
    "X_train, X_test, y_train, y_test = train_test_split(\n",
    "    X_clean, y_clean, test_size=0.2, random_state=42\n",
    ")\n"
   ]
  },
  {
   "cell_type": "markdown",
   "id": "922c6281",
   "metadata": {},
   "source": [
    "## KNN imputation to Training data"
   ]
  },
  {
   "cell_type": "code",
   "execution_count": 102,
   "id": "e5341a27",
   "metadata": {},
   "outputs": [],
   "source": [
    "import pandas as pd\n",
    "from sklearn.impute import KNNImputer\n",
    "\n",
    "imputer = KNNImputer(n_neighbors=5)\n",
    "\n",
    "# Fit the imputer on the training data and transform both train and test sets\n",
    "X_train_imputed = imputer.fit_transform(X_train)\n",
    "X_test_imputed = imputer.transform(X_test)  # Apply the same transformation to the test set\n"
   ]
  },
  {
   "cell_type": "markdown",
   "id": "d6cffcdb",
   "metadata": {},
   "source": [
    "## Scaling numerical variables (NOT O-H enc) in the Training Set"
   ]
  },
  {
   "cell_type": "code",
   "execution_count": 103,
   "id": "74609126",
   "metadata": {},
   "outputs": [],
   "source": [
    "from sklearn.preprocessing import MinMaxScaler\n",
    "scaler = MinMaxScaler()\n",
    "X_train = scaler.fit_transform(X_train_imputed)\n",
    "X_test = scaler.transform(X_test_imputed)\n"
   ]
  },
  {
   "cell_type": "markdown",
   "id": "09500c54",
   "metadata": {},
   "source": [
    "## Log transform SWE"
   ]
  },
  {
   "cell_type": "code",
   "execution_count": 104,
   "id": "2f65ce97",
   "metadata": {},
   "outputs": [],
   "source": [
    "y_train = np.log(y_train + 1)\n",
    "y_test = np.log(y_test + 1)\n",
    "\n"
   ]
  },
  {
   "cell_type": "markdown",
   "id": "4173f7bb",
   "metadata": {},
   "source": [
    "# TRAINING <3"
   ]
  },
  {
   "cell_type": "markdown",
   "id": "5754d4bb",
   "metadata": {},
   "source": [
    "## Baseline - Decision Tree"
   ]
  },
  {
   "cell_type": "code",
   "execution_count": 145,
   "id": "b0fda7b0",
   "metadata": {},
   "outputs": [
    {
     "name": "stdout",
     "output_type": "stream",
     "text": [
      "R2 (mean ± std): 0.5168 ± 0.2182\n",
      "MAE (mean ± std): 0.9580 ± 0.1407\n",
      "MSE (mean ± std): 1.8604 ± 0.7171\n"
     ]
    }
   ],
   "source": [
    "from sklearn.model_selection import cross_validate\n",
    "from sklearn.metrics import make_scorer, mean_absolute_error, mean_squared_error\n",
    "from sklearn.tree import DecisionTreeRegressor\n",
    "import numpy as np\n",
    "\n",
    "# Define model\n",
    "dt = DecisionTreeRegressor(random_state=42)\n",
    "\n",
    "# Define scoring metrics (on log scale)\n",
    "scoring = {\n",
    "    'r2': 'r2',\n",
    "    'mae': make_scorer(mean_absolute_error),\n",
    "    'mse': make_scorer(mean_squared_error),\n",
    "}\n",
    "\n",
    "# Run 5-fold cross-validation\n",
    "cv_results = cross_validate(\n",
    "    dt,\n",
    "    X_train,\n",
    "    y_train,  # log-transformed SWE\n",
    "    cv=10,\n",
    "    scoring=scoring,\n",
    "    return_train_score=False\n",
    ")\n",
    "\n",
    "# Show average scores\n",
    "for metric in scoring:\n",
    "    scores = cv_results[f'test_{metric}']\n",
    "    print(f\"{metric.upper()} (mean ± std): {scores.mean():.4f} ± {scores.std():.4f}\")\n",
    "\n"
   ]
  },
  {
   "cell_type": "markdown",
   "id": "283e4777",
   "metadata": {},
   "source": [
    "## ANN"
   ]
  },
  {
   "cell_type": "code",
   "execution_count": 141,
   "id": "cda0eb77",
   "metadata": {},
   "outputs": [
    {
     "name": "stdout",
     "output_type": "stream",
     "text": [
      "R2: 0.4861585253761862\n",
      "MAE: 1.2718073116767725\n",
      "MSE: 2.5450506063862206\n",
      "RMSE: 1.5953214743073638\n"
     ]
    },
    {
     "name": "stderr",
     "output_type": "stream",
     "text": [
      "c:\\Users\\maria\\AppData\\Local\\Programs\\Python\\Python312\\Lib\\site-packages\\sklearn\\neural_network\\_multilayer_perceptron.py:691: ConvergenceWarning: Stochastic Optimizer: Maximum iterations (100) reached and the optimization hasn't converged yet.\n",
      "  warnings.warn(\n"
     ]
    }
   ],
   "source": [
    "from sklearn.neural_network import MLPRegressor\n",
    "from sklearn.metrics import mean_absolute_error, mean_squared_error, r2_score\n",
    "import numpy as np\n",
    "\n",
    "# Define the ANN model using MLPRegressor\n",
    "mlp = MLPRegressor(hidden_layer_sizes=(64, 32), activation='relu', max_iter=100, random_state=42)\n",
    "\n",
    "# Train the model\n",
    "mlp.fit(X_train, y_train)\n",
    "\n",
    "# Make predictions\n",
    "y_pred = mlp.predict(X_test)\n",
    "\n",
    "# Calculate performance metrics\n",
    "r2 = r2_score(y_test, y_pred)\n",
    "mae = mean_absolute_error(y_test, y_pred)\n",
    "mse = mean_squared_error(y_test, y_pred)\n",
    "rmse = np.sqrt(mse)\n",
    "\n",
    "# Print the metrics\n",
    "print(f\"R2: {r2}\")\n",
    "print(f\"MAE: {mae}\")\n",
    "print(f\"MSE: {mse}\")\n",
    "print(f\"RMSE: {rmse}\")\n"
   ]
  },
  {
   "cell_type": "markdown",
   "id": "4ff1ea0d",
   "metadata": {},
   "source": [
    "## XGBoost"
   ]
  },
  {
   "cell_type": "code",
   "execution_count": 144,
   "id": "a50a4877",
   "metadata": {},
   "outputs": [
    {
     "name": "stdout",
     "output_type": "stream",
     "text": [
      "R²: 0.8109120070741871\n",
      "MAE: 0.735403711049847\n",
      "MSE: 0.9365505410175595\n",
      "RMSE: 0.9677554138404805\n"
     ]
    }
   ],
   "source": [
    "import xgboost as xgb\n",
    "from sklearn.metrics import mean_absolute_error, mean_squared_error, r2_score\n",
    "\n",
    "# Define the XGBoost model\n",
    "xg_reg = xgb.XGBRegressor(objective='reg:squarederror', \n",
    "                          colsample_bytree=0.3, \n",
    "                          learning_rate=0.1, \n",
    "                          max_depth=5, \n",
    "                          alpha=10, \n",
    "                          n_estimators=100, \n",
    "                          random_state=42)\n",
    "\n",
    "# Train the model\n",
    "xg_reg.fit(X_train, y_train)\n",
    "\n",
    "# Make predictions\n",
    "y_pred = xg_reg.predict(X_test)\n",
    "\n",
    "# Calculate performance metrics\n",
    "r2 = r2_score(y_test, y_pred)\n",
    "mae = mean_absolute_error(y_test, y_pred)\n",
    "mse = mean_squared_error(y_test, y_pred)\n",
    "rmse = np.sqrt(mse)\n",
    "\n",
    "# Print the metrics\n",
    "print(f\"R²: {r2}\")\n",
    "print(f\"MAE: {mae}\")\n",
    "print(f\"MSE: {mse}\")\n",
    "print(f\"RMSE: {rmse}\")\n"
   ]
  }
 ],
 "metadata": {
  "kernelspec": {
   "display_name": "Python 3",
   "language": "python",
   "name": "python3"
  },
  "language_info": {
   "codemirror_mode": {
    "name": "ipython",
    "version": 3
   },
   "file_extension": ".py",
   "mimetype": "text/x-python",
   "name": "python",
   "nbconvert_exporter": "python",
   "pygments_lexer": "ipython3",
   "version": "3.12.0"
  }
 },
 "nbformat": 4,
 "nbformat_minor": 5
}
